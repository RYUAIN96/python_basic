{
 "cells": [
  {
   "cell_type": "markdown",
   "metadata": {},
   "source": [
    "##  class, 객체\n",
    "\n",
    "- 용어 정리\n",
    "    - 개체 ; 이 세상에서 존재하는 모든 유형/무형(사고, 생각 등등)\n",
    "        - entity\n",
    "        - 전산에서 코드로 구현할 대상이 된다\n",
    "    - class \n",
    "        - 사람이라는 유형을 전산으로 구현해보자\n",
    "        - 전산상에서는 이를 구형할 수 있는 기준, 용어가 필요\n",
    "        - 이를 클래스라고 정의한다\n",
    "        - 클래스는 개체를 구현하는 방법(룰, 문법)\n",
    "        - 클래스를 작성한 코드를 구현하면 클래스가 메모리에 로드되는데, 이때 이를 객체라고 부른다.\n",
    "    - 객체(Object): \n",
    "        - 여러개 생성할 수 있다\n",
    "        - 그런 동일한 객체들은 동일한 특성을 가진다\n",
    "            - 눈이 2개, 입이 1개 ..등등\n",
    "            - 특성 - 문법적으로 변수로 표현\n",
    "            - 멤버 변수\n",
    "        - 그런 동일한 객체들은 동일한 행동을 가진다\n",
    "            - 밥을 먹는다, 달린다 등등\n",
    "            - 행동 - 문법적으로는 함수로 표현\n",
    "            - 멤버 함수\n",
    "    - 객체를 중심으로(class를 중심으로) 코드가 작성, 관리되면 \"객체 지향 프로그램(OOP)\"이라고 부른다\n",
    "        - C++ 에서 처음 등장, 자바에서 발전시켰고, 이후는 대부분의 언어가 지원\n",
    "        - 상속성(부모, 자식관계를 통해서, 상속을 받은 자식을 부모의 모든 기능을 그대로 사용 가능하고, 자식은 재정의하거나, 기능을 추가)\n",
    "        - <= 파이썬은 상속성만 신경쓴다\n",
    "        ------------------------------------------------------------------------------------------------------------------------------\n",
    "        - 캡슐화(데이터를 내부로 숨기고, 정해진 함수를 통해서 데이터를 읽고, 쓰기)\n",
    "        - 다형성("
   ]
  },
  {
   "cell_type": "code",
   "execution_count": null,
   "metadata": {},
   "outputs": [],
   "source": [
    "# 형식 : class 기술법"
   ]
  },
  {
   "cell_type": "markdown",
   "metadata": {},
   "source": [
    "- 클래스 내부에 존재하는 모든 함수의 1번 인자는\n",
    "- 클래스 자기 자신을 설명하는 키워드 => self로 세팅된다\n",
    "- 타 언어에서는 this라고 표현한다"
   ]
  },
  {
   "cell_type": "code",
   "execution_count": null,
   "metadata": {},
   "outputs": [],
   "source": [
    "# 함수 - > 호출해야 존재하고\n",
    "# 클래스 -> 생성해야 존재한다\n",
    "# 생성 -> 클래스명( [인자...] )"
   ]
  },
  {
   "cell_type": "code",
   "execution_count": 2,
   "metadata": {},
   "outputs": [
    {
     "data": {
      "text/plain": [
       "<__main__.Person at 0x1f2bc2757c8>"
      ]
     },
     "execution_count": 2,
     "metadata": {},
     "output_type": "execute_result"
    }
   ],
   "source": [
    "p = Person()\n",
    "p"
   ]
  },
  {
   "cell_type": "code",
   "execution_count": 3,
   "metadata": {},
   "outputs": [
    {
     "data": {
      "text/plain": [
       "'류아인'"
      ]
     },
     "execution_count": 3,
     "metadata": {},
     "output_type": "execute_result"
    }
   ],
   "source": [
    "# p라는 객체의 멤버들을 접근하고 싶으면, (도트 연산자) 사용\n",
    "p.name"
   ]
  },
  {
   "cell_type": "code",
   "execution_count": 4,
   "metadata": {},
   "outputs": [
    {
     "ename": "TypeError",
     "evalue": "getName() takes 0 positional arguments but 1 was given",
     "output_type": "error",
     "traceback": [
      "\u001b[1;31m---------------------------------------------------------------------------\u001b[0m",
      "\u001b[1;31mTypeError\u001b[0m                                 Traceback (most recent call last)",
      "\u001b[1;32m<ipython-input-4-147f15d4dd1f>\u001b[0m in \u001b[0;36m<module>\u001b[1;34m\u001b[0m\n\u001b[1;32m----> 1\u001b[1;33m \u001b[0mp\u001b[0m\u001b[1;33m.\u001b[0m\u001b[0mgetName\u001b[0m\u001b[1;33m(\u001b[0m\u001b[1;33m)\u001b[0m\u001b[1;33m\u001b[0m\u001b[1;33m\u001b[0m\u001b[0m\n\u001b[0m",
      "\u001b[1;31mTypeError\u001b[0m: getName() takes 0 positional arguments but 1 was given"
     ]
    }
   ],
   "source": [
    "p.getName()"
   ]
  },
  {
   "cell_type": "code",
   "execution_count": 1,
   "metadata": {},
   "outputs": [],
   "source": [
    "# 구성원을 일부 보여주면서 class를 정의\n",
    "class Person:\n",
    "    '''\n",
    "    멤버 변수\n",
    "    '''\n",
    "    name = '류아인'\n",
    "    '''\n",
    "    멤버 함수\n",
    "    '''\n",
    "    def getName():\n",
    "        print('Person의 이름입니다.')\n",
    "    '''\n",
    "    생성자\n",
    "    '''"
   ]
  },
  {
   "cell_type": "code",
   "execution_count": 5,
   "metadata": {},
   "outputs": [],
   "source": [
    "class Person:\n",
    "    name = '홍길동'\n",
    "    def getName(self):\n",
    "        print('Person의 이름입니다.')\n",
    "    '''\n",
    "    생성자\n",
    "    '''"
   ]
  },
  {
   "cell_type": "code",
   "execution_count": 6,
   "metadata": {},
   "outputs": [],
   "source": [
    "p = Person()"
   ]
  },
  {
   "cell_type": "code",
   "execution_count": 7,
   "metadata": {},
   "outputs": [
    {
     "name": "stdout",
     "output_type": "stream",
     "text": [
      "Person의 이름입니다.\n"
     ]
    }
   ],
   "source": [
    "p.getName()"
   ]
  },
  {
   "cell_type": "markdown",
   "metadata": {},
   "source": [
    "- 생성자 , constructor <= 형태는 함수이다\n",
    "- 클래스를 보고 객체를 생성하는 실제적인 작업 진행\n",
    "- 기본 생성자는 생략 가능하다\n",
    "- 생성자는 기본 역할중에 하나는 멤버 변수 초기화\n",
    "- 이름 : __init__"
   ]
  },
  {
   "cell_type": "code",
   "execution_count": 8,
   "metadata": {},
   "outputs": [],
   "source": [
    "class Person:\n",
    "    name = '홍길동'\n",
    "    def getName(self):\n",
    "        print('Person의 이름입니다.')\n",
    "    '''\n",
    "    생성자 : 객체를 생성, 멤버 변수 초기화(옵션)\n",
    "    '''\n",
    "    def __init__( self ):\n",
    "        print('객체 생성')"
   ]
  },
  {
   "cell_type": "code",
   "execution_count": 9,
   "metadata": {
    "scrolled": true
   },
   "outputs": [
    {
     "name": "stdout",
     "output_type": "stream",
     "text": [
      "객체 생성\n"
     ]
    },
    {
     "data": {
      "text/plain": [
       "<__main__.Person at 0x1f2bc81b8c8>"
      ]
     },
     "execution_count": 9,
     "metadata": {},
     "output_type": "execute_result"
    }
   ],
   "source": [
    "Person()"
   ]
  },
  {
   "cell_type": "code",
   "execution_count": null,
   "metadata": {},
   "outputs": [],
   "source": [
    "# 초기화 => 최초, 맨 처음에 값을 세팅하는 행위\n",
    "# 변수를 사용하기 전에 초기값을 넣는 행위 => 초기화\n",
    "a = None"
   ]
  },
  {
   "cell_type": "code",
   "execution_count": null,
   "metadata": {},
   "outputs": [],
   "source": [
    "a = 1"
   ]
  },
  {
   "cell_type": "code",
   "execution_count": 11,
   "metadata": {},
   "outputs": [],
   "source": [
    "# 멤버변수 초기화(옵션)\n",
    "class Person:\n",
    "    name = None\n",
    "    def getName(self):\n",
    "        print('Person의 이름입니다.')\n",
    "    def __init__( self, name ):\n",
    "        print('객체 생성')\n",
    "        # 클래스 내부에서 멤버들을 사용할 경우\n",
    "        # self.변수, self.함수 -> 클래스 안에서만 사용!\n",
    "        # 멤버 변수 초기화\n",
    "        self.name = name"
   ]
  },
  {
   "cell_type": "code",
   "execution_count": 13,
   "metadata": {},
   "outputs": [
    {
     "name": "stdout",
     "output_type": "stream",
     "text": [
      "객체 생성\n"
     ]
    },
    {
     "data": {
      "text/plain": [
       "'류아인'"
      ]
     },
     "execution_count": 13,
     "metadata": {},
     "output_type": "execute_result"
    }
   ],
   "source": [
    "p = Person( '류아인' )\n",
    "p.name"
   ]
  },
  {
   "cell_type": "code",
   "execution_count": 14,
   "metadata": {},
   "outputs": [
    {
     "name": "stdout",
     "output_type": "stream",
     "text": [
      "Person의 이름입니다.\n"
     ]
    }
   ],
   "source": [
    "p.getName()\n",
    "# Person의 이름은 류아인입니다. <= 구현"
   ]
  },
  {
   "cell_type": "code",
   "execution_count": 27,
   "metadata": {},
   "outputs": [],
   "source": [
    "# 멤버변수 초기화(옵션)\n",
    "class Person:\n",
    "    name = None\n",
    "    def getName(self):\n",
    "        print('Person의 이름은 %s 입니다.' % self.name)\n",
    "    def __init__( self, name ):\n",
    "        print('객체 생성')\n",
    "        self.name = name"
   ]
  },
  {
   "cell_type": "code",
   "execution_count": 28,
   "metadata": {},
   "outputs": [
    {
     "name": "stdout",
     "output_type": "stream",
     "text": [
      "객체 생성\n"
     ]
    },
    {
     "data": {
      "text/plain": [
       "'류아인'"
      ]
     },
     "execution_count": 28,
     "metadata": {},
     "output_type": "execute_result"
    }
   ],
   "source": [
    "p = Person( '류아인' )\n",
    "p.name"
   ]
  },
  {
   "cell_type": "code",
   "execution_count": 29,
   "metadata": {},
   "outputs": [
    {
     "name": "stdout",
     "output_type": "stream",
     "text": [
      "Person의 이름은 류아인 입니다.\n"
     ]
    }
   ],
   "source": [
    "p.getName()"
   ]
  },
  {
   "cell_type": "code",
   "execution_count": null,
   "metadata": {},
   "outputs": [],
   "source": []
  },
  {
   "cell_type": "code",
   "execution_count": 35,
   "metadata": {},
   "outputs": [],
   "source": [
    "# 멤버변수 초기화(옵션)\n",
    "class Person:\n",
    "    # 이미 멤버 변수 초기화는 수행되었다 => 값을 넣었기 때문에\n",
    "    name = None\n",
    "    age = 25\n",
    "    weight = 300\n",
    "    def getName(self):\n",
    "        print('Person의 이름은 %s 입니다.' % self.name)\n",
    "        # 만약 객체를 만들면서 그것을 변경하고 싶다면\n",
    "    def __init__( self, name, age, weight ):\n",
    "        print('객체 생성')\n",
    "        if name:\n",
    "            self.name = name\n",
    "        if name:\n",
    "            self.age = age\n",
    "        if name:\n",
    "            self.weight = weight"
   ]
  },
  {
   "cell_type": "markdown",
   "metadata": {},
   "source": [
    "### 상속\n",
    "\n",
    "- A라는 클래스를 상속받은 클래스가 B이다\n",
    "- A는 부모, B는 자식, 자식은 여러개일 수 있다\n",
    "- **자식은 부모의 것을 그대로 물려받고, 그것을 개선(재정의), 추가할 수 있다.**\n",
    "- 다음 문구 확인 : 객체 지향 프로그램에서 부모, 자식 관계를 설명하는 명제\n",
    "    A has a B => O\n",
    "    B is  a A => O"
   ]
  },
  {
   "cell_type": "code",
   "execution_count": 42,
   "metadata": {},
   "outputs": [],
   "source": [
    "# 모든 클래스의 수퍼 클래스는 Object\n",
    "# 이것은 보통 생략 가능하다\n",
    "# 특정 클래스를 상속 => 클래스명(부모클래스명)\n",
    "class XMan(Person):pass"
   ]
  },
  {
   "cell_type": "code",
   "execution_count": 43,
   "metadata": {},
   "outputs": [
    {
     "name": "stdout",
     "output_type": "stream",
     "text": [
      "객체 생성\n"
     ]
    }
   ],
   "source": [
    "x = XMan(1,2,3)"
   ]
  },
  {
   "cell_type": "code",
   "execution_count": 44,
   "metadata": {},
   "outputs": [
    {
     "name": "stdout",
     "output_type": "stream",
     "text": [
      "Person의 이름은 1 입니다.\n"
     ]
    }
   ],
   "source": [
    "x.getName()"
   ]
  },
  {
   "cell_type": "code",
   "execution_count": 40,
   "metadata": {},
   "outputs": [],
   "source": [
    "class XMan(Person):\n",
    "    def eat(self):\n",
    "        print('나는 점심을 5분안에 다 먹는다.어떤 메뉴던지')"
   ]
  },
  {
   "cell_type": "code",
   "execution_count": 41,
   "metadata": {},
   "outputs": [
    {
     "name": "stdout",
     "output_type": "stream",
     "text": [
      "객체 생성\n",
      "나는 점심을 5분안에 다 먹는다.어떤 메뉴던지\n"
     ]
    }
   ],
   "source": [
    "x = XMan(1,2,3)\n",
    "x.eat()"
   ]
  },
  {
   "cell_type": "markdown",
   "metadata": {},
   "source": [
    "- Enermy 클래스 생성\n",
    "- Enermy 클래스는\n",
    "    '''\n",
    "    - SPEED, HP, EXP, LEVEL, COLOR, x, y 등 속성이 있다\n",
    "    - move, attack, damage 등의 행동을 가지고 있다\n",
    "    - 이런 클래스를 구현하시오\n",
    "    - 전제하지 않는 것들은 가정하시오\n",
    "    \n",
    "    - 적을 100개를 생성하시오\n",
    "    \n",
    "    - 적을 10*10으로 배치하는데, 적의 크기는 10x10이다\n",
    "    - 공간의 크기가 가로 200, 세로 600이다\n",
    "    - 적을 100개 생성하는데 좌표는 다르게 부여한다\n",
    "    - 가로로 10개 세로로 10개씩 배치된다\n",
    "    - 좌표계는 1/4분면이다\n",
    "    '''\n",
    "   "
   ]
  },
  {
   "cell_type": "code",
   "execution_count": 66,
   "metadata": {},
   "outputs": [],
   "source": [
    "# 클래스는 새로운 자료구조를 정의하는 형태\n",
    "# 데이터뿐만아니라 , 행동(함수)도 같이 가질 수 있는 자료구조\n",
    "class Enermy:\n",
    "    # 멤버 변수\n",
    "    SPEED, HP, EXP, LEVEL, COLOR, x, y = (0,0,0,0,0,0,0)\n",
    "    # 멤버 함수\n",
    "    def move(self):pass\n",
    "    def attack():pass\n",
    "    def damage():pass\n",
    "    # 생성자\n",
    "    def __init__(self):pass"
   ]
  },
  {
   "cell_type": "code",
   "execution_count": 67,
   "metadata": {},
   "outputs": [],
   "source": [
    "# 그냥 100개 만들어봤다\n",
    "enermies = list()\n",
    "for n in range(100):\n",
    "    enermies.append( Enermy() )"
   ]
  },
  {
   "cell_type": "code",
   "execution_count": 68,
   "metadata": {},
   "outputs": [
    {
     "data": {
      "text/plain": [
       "(100, [<__main__.Enermy at 0x1f2bdd202c8>, <__main__.Enermy at 0x1f2bdd20688>])"
      ]
     },
     "execution_count": 68,
     "metadata": {},
     "output_type": "execute_result"
    }
   ],
   "source": [
    "len(enermies), enermies[:2]"
   ]
  },
  {
   "cell_type": "code",
   "execution_count": 70,
   "metadata": {},
   "outputs": [],
   "source": [
    "# 객체 100개를 모두 삭제 - 객체 삭제하고(del) 방을 빼야함(clear)\n",
    "for en in enermies:\n",
    "    del en\n",
    "enermies.clear()"
   ]
  },
  {
   "cell_type": "markdown",
   "metadata": {},
   "source": [
    "### 좌표를 부여하여 생성"
   ]
  },
  {
   "cell_type": "code",
   "execution_count": null,
   "metadata": {},
   "outputs": [],
   "source": [
    "e1 = Enermy()\n",
    "e1.x = 10\n",
    "e1.y = 20\n",
    "# 이렇게 짜보니 좌표 받는데 3줄이나 표현해야 한다 ->\n",
    "# Enermy의 자식은 생성할 때 바로 x,y를 받게 진화, 구현하겠다."
   ]
  },
  {
   "cell_type": "code",
   "execution_count": 73,
   "metadata": {},
   "outputs": [],
   "source": [
    "# 클래스를 상속받았다 -> 상속:재정의 or 추가\n",
    "class EnermyEx(Enermy):\n",
    "    def __init__(self, x, y):\n",
    "        self.x = x\n",
    "        self.y = y"
   ]
  },
  {
   "cell_type": "code",
   "execution_count": 74,
   "metadata": {},
   "outputs": [
    {
     "data": {
      "text/plain": [
       "<__main__.EnermyEx at 0x1f2bde8a388>"
      ]
     },
     "execution_count": 74,
     "metadata": {},
     "output_type": "execute_result"
    }
   ],
   "source": [
    "EnermyEx(10,20)"
   ]
  },
  {
   "cell_type": "code",
   "execution_count": 75,
   "metadata": {},
   "outputs": [
    {
     "data": {
      "text/plain": [
       "100"
      ]
     },
     "execution_count": 75,
     "metadata": {},
     "output_type": "execute_result"
    }
   ],
   "source": [
    "# 적 비행기의 최초 출현하는 y 좌표\n",
    "std_y_start = 150\n",
    "# 적 비행기의 높이  \n",
    "enermy_h    = 10\n",
    "# 적 비행기의 최초 출현하는 x 좌표\n",
    "std_x_start = 150\n",
    "# 적 비행기의 너비\n",
    "enermy_w    = 10\n",
    "for y in range(10): # y좌표\n",
    "    for x in range(10): # x좌표\n",
    "        tx = std_x_start + x*enermy_w\n",
    "        ty = std_y_start + y*enermy_h\n",
    "        enermies.append( EnermyEx( tx, ty ) )\n",
    "len(enermies)"
   ]
  },
  {
   "cell_type": "markdown",
   "metadata": {},
   "source": [
    "### 리뷰\n",
    "\n",
    "- 어떤 요구사항을 구현하는데, 같은 형태가 반복적으로 등장한다면\n",
    "- 그 형태가 데이터도 있고, 어떤 행동(행위, 동사)등 존재한다면\n",
    "- class라는 형태를 도입하는 것이 가장 쉽게 구현하는 방법이다\n",
    "    - 게임 : 총알(무한대로 발사, 속도, 이동한다, 데미지를 준다 등등)\n",
    "    - GUI  : 윈도우, 팝업(화면에 보인다, 안보인다, 메시지, 봐표)\n",
    "- class는 데이터(멤버 변수), 행동(멤버 함수)로 구성된다(몇가지 추가요소가 있다)\n",
    "    - 추가요소 : 생성자 => def __init__(self):pass\n",
    "    - 생성자는 언제 호출되는가?\n",
    "        - 객체를 생성하면\n",
    "            - 객채는 class를 메모리 공간에 할당하면 그것을 객체라고 부른다\n",
    "            - class의 인스턴스가 객체이다\n",
    "            - 객체를 생성하면 내부적으로는 생성자가 자동 호출된다.\n",
    "            - 생성자 함수 내부가 객체가 생성될 때 가장 먼저 수행할 일들을 구현하면 된다 (예) 멤버 변수 초기화)\n",
    "            - 객체를 생성하면 (생성자가 호출되면) 메모리를 할당하고 내부적으로 알 수 없는 작업들이 모두 끝나면 객체의 주소를 반환한다\n",
    "            - p = Person()\n",
    "            - p 는 객체 Person 객체를 가리키는 주소를 담고 있는 레퍼런스 변수, 인스턴스 변수, 객체 변수 등등 이라고 한다."
   ]
  },
  {
   "cell_type": "code",
   "execution_count": 9,
   "metadata": {},
   "outputs": [],
   "source": [
    "# 동물 class define\n",
    "class Ani:\n",
    "    # 멤버 변수\n",
    "    name = None \n",
    "    # 멤버 함수, 모든 멤버 함수의 1번인자 self\n",
    "    def eat( self, food ):\n",
    "        print( food + '를 먹는다')\n",
    "    # 생성자(생략가능)"
   ]
  },
  {
   "cell_type": "code",
   "execution_count": 10,
   "metadata": {},
   "outputs": [],
   "source": [
    "# 사용하기 위해 1. 생성\n",
    "a = Ani()"
   ]
  },
  {
   "cell_type": "code",
   "execution_count": 11,
   "metadata": {},
   "outputs": [
    {
     "name": "stdout",
     "output_type": "stream",
     "text": [
      "None\n"
     ]
    }
   ],
   "source": [
    "# 2. 사용 : 변수.멤버변수, 변수.멤버함수\n",
    "print(a.name)"
   ]
  },
  {
   "cell_type": "code",
   "execution_count": 12,
   "metadata": {},
   "outputs": [
    {
     "data": {
      "text/plain": [
       "'박홍근'"
      ]
     },
     "execution_count": 12,
     "metadata": {},
     "output_type": "execute_result"
    }
   ],
   "source": [
    "a.name = '박홍근'\n",
    "a.name"
   ]
  },
  {
   "cell_type": "code",
   "execution_count": 13,
   "metadata": {},
   "outputs": [
    {
     "name": "stdout",
     "output_type": "stream",
     "text": [
      "사료를 먹는다\n"
     ]
    }
   ],
   "source": [
    "a.eat('사료')"
   ]
  }
 ],
 "metadata": {
  "kernelspec": {
   "display_name": "Python 3",
   "language": "python",
   "name": "python3"
  },
  "language_info": {
   "codemirror_mode": {
    "name": "ipython",
    "version": 3
   },
   "file_extension": ".py",
   "mimetype": "text/x-python",
   "name": "python",
   "nbconvert_exporter": "python",
   "pygments_lexer": "ipython3",
   "version": "3.7.4"
  }
 },
 "nbformat": 4,
 "nbformat_minor": 2
}
