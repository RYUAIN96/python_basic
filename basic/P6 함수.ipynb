{
 "cells": [
  {
   "cell_type": "markdown",
   "metadata": {},
   "source": [
    "## 함수\n",
    "\n",
    "- 함수\n",
    "    - 종류\n",
    "        - 커스텀함수(사용자정의함수)\n",
    "            - 개발자의 필요에 의해 정의된 함수 \n",
    "        - 내장함수\n",
    "            - 별도의 추가 코드 없이 바로 사용가능한 함수\n",
    "            - type() , len() , str() , list() , ....\n",
    "            - 파이썬이 설치되어 있으면 바로 사용이 가능(전역적인함수)\n",
    "        - 외장함수 (라이브러리 상에 존재하는 함수) = 소속이 있어야 사용 가능\n",
    "            - 별도의 모듈을 코드에 추가하고 나서 모듈을 통해 사용 가능한 함수 (소속, 함수명())\n",
    "            - import time\n",
    "            - tmie.sleep()\n",
    "        - 람다함수\n",
    "            - 가장 빠른 함수\n",
    "            - 수행문이 1개이다\n",
    "            - 특정 함수의 인자로 사용, 휘발성, 코드가 지나가면 사라진다\n",
    "            - 연속 데이터 타입들의 멤버들을 하나씩 건들면서 뭔가 작업을 하고 대체하거나 걸러낼때 주로 사용\n",
    "            - 대체 : 파이썬내장함수 map(), DataFrame의 apply() \n",
    "            - 필터링 : 파이썬내장함수 fillter() , DataFrame의 apply()\n",
    "            - lambda x : x+1\n",
    "        - 클로저\n",
    "            - 함수 안에 함수 있다 \n",
    "    - 프로그램\n",
    "        - 함수 지향적 프로그램\n",
    "    - 특징    \n",
    "        - 함수 본질 , 장점\n",
    "            - 재활용성을 높여서 코드를 다이어트하고 품질을 높인다\n",
    "            - 생산성이 향상 => 빠르게 제작 => 기업은 수익 증가 확률이 높아짐\n",
    "            - 다음 프로젝트때는 기존 구축된 함수 모듈이 존재하므로\n",
    "            - 그만큼 더 생산성 향상\n",
    "            - 반복된 코드를 함수로 만들어서 사용성을 높인다. 복잡성을 줄인다. 유지보수를 용이하게 구현.\n",
    "            - 입력 대비 출력이라는 기본 기능을 수행한다\n",
    "        - 스타일\n",
    "            - 코드 중에 반복되는 구간이 있으면 -> 함수\n",
    "            - 로직을 구현 => 일반화 학습 => 함수화\n",
    "            - 한번만 나오지만, 코드가 복잡해서 함수화 하는 경우 => 작업 단위를 구분하기 위해\n",
    "        - 용어: C계열 : 함수 Java계열 : 메소드"
   ]
  },
  {
   "cell_type": "markdown",
   "metadata": {},
   "source": [
    "### 1. 사용자 정의 함수\n",
    "\n",
    "#### 1-1 기본형"
   ]
  },
  {
   "cell_type": "code",
   "execution_count": 1,
   "metadata": {},
   "outputs": [
    {
     "data": {
      "text/plain": [
       "'\\n- 기본형태\\n- []는 생략가능하다는 표현\\ndef 함수명( [인자(매개변수)명, ....] ):\\n    statements ...\\n    [return [값, ...]] # 리턴 이하는 쓸 수도 있도 안 쓸 수도 있다.\\n'"
      ]
     },
     "execution_count": 1,
     "metadata": {},
     "output_type": "execute_result"
    }
   ],
   "source": [
    "'''\n",
    "- 기본형태\n",
    "- []는 생략가능하다는 표현\n",
    "def 함수명( [인자(매개변수)명, ....] ):\n",
    "    statements ...\n",
    "    [return [값, ...]] # 리턴 이하는 쓸 수도 있도 안 쓸 수도 있다.\n",
    "'''"
   ]
  },
  {
   "cell_type": "code",
   "execution_count": 10,
   "metadata": {},
   "outputs": [],
   "source": [
    "# 더하기 함수\n",
    "# 함수명 : sum\n",
    "# 입력 : x , y\n",
    "# 출력 ; 입력값을 더한 결과\n",
    "\n",
    "# 함수의 인자는 타입을 기술하지 않는다 - > 타입추론이기본\n",
    "def sum( x, y ):\n",
    "    return x + y"
   ]
  },
  {
   "cell_type": "code",
   "execution_count": 11,
   "metadata": {},
   "outputs": [
    {
     "data": {
      "text/plain": [
       "3"
      ]
     },
     "execution_count": 11,
     "metadata": {},
     "output_type": "execute_result"
    }
   ],
   "source": [
    "# 함수의 사용은 함수의 호출을 통해서 진행\n",
    "# 호출 : 함수명( [인자값, ..] )\n",
    "# call by value : 호출하고 결과를 받는다\n",
    "results = sum( 1, 2 )\n",
    "results"
   ]
  },
  {
   "cell_type": "code",
   "execution_count": 12,
   "metadata": {},
   "outputs": [],
   "source": [
    "def sum2( x, y ):\n",
    "    print( x + y )"
   ]
  },
  {
   "cell_type": "code",
   "execution_count": 13,
   "metadata": {},
   "outputs": [
    {
     "name": "stdout",
     "output_type": "stream",
     "text": [
      "3\n",
      "None\n"
     ]
    }
   ],
   "source": [
    "results = sum2( 1, 2 )\n",
    "print( results )"
   ]
  },
  {
   "cell_type": "code",
   "execution_count": 14,
   "metadata": {},
   "outputs": [
    {
     "name": "stdout",
     "output_type": "stream",
     "text": [
      "None\n"
     ]
    }
   ],
   "source": [
    "# 함수의 호출의 결과가 NONE 내부에서 return 표현을 생략했다. 반환작업을 하지 않는다\n",
    "a = [3, 5, 2, 5, 1]\n",
    "print( a.sort() )"
   ]
  },
  {
   "cell_type": "code",
   "execution_count": 15,
   "metadata": {},
   "outputs": [
    {
     "data": {
      "text/plain": [
       "[1, 2, 3, 5, 5]"
      ]
     },
     "execution_count": 15,
     "metadata": {},
     "output_type": "execute_result"
    }
   ],
   "source": [
    "a"
   ]
  },
  {
   "cell_type": "markdown",
   "metadata": {},
   "source": [
    "#### 1-2 가변인자(arguments, params, parameters)"
   ]
  },
  {
   "cell_type": "code",
   "execution_count": 20,
   "metadata": {},
   "outputs": [],
   "source": [
    "# *a : 포인터 a 라고 부름\n",
    "def sum3( *a ):\n",
    "    # a: tuple로 가변인자가 들어온다\n",
    "    # print( type(a) )\n",
    "    # 누적합을 리턴하시오. 인자를 모두 더해서 리턴\n",
    "    results = 0\n",
    "    for n in a:\n",
    "    # results = results + n\n",
    "        results += n\n",
    "# 반환\n",
    "    return results"
   ]
  },
  {
   "cell_type": "code",
   "execution_count": 19,
   "metadata": {},
   "outputs": [
    {
     "name": "stdout",
     "output_type": "stream",
     "text": [
      "3\n",
      "6\n",
      "10\n"
     ]
    }
   ],
   "source": [
    "print( sum3( 1, 2 ) )\n",
    "print( sum3( 1, 2, 3 ) )\n",
    "print( sum3( 1, 2, 3, 4 ) )"
   ]
  },
  {
   "cell_type": "markdown",
   "metadata": {},
   "source": [
    "#### 1-3 리턴값이 여러개"
   ]
  },
  {
   "cell_type": "code",
   "execution_count": 21,
   "metadata": {},
   "outputs": [],
   "source": [
    "# 누적합, 누적곱 리턴 <= 리턴값이 여러개다\n",
    "def sum4( *a ):\n",
    "    results = 0\n",
    "    tmp     = 1 # 초기값\n",
    "    for n in a:\n",
    "        results += n\n",
    "        tmp *= n\n",
    "    # 리턴값이 여러개면 나열(열거)하면 된다 -> 듀플로 표시된다\n",
    "    return results, tmp"
   ]
  },
  {
   "cell_type": "code",
   "execution_count": 24,
   "metadata": {},
   "outputs": [],
   "source": [
    "# 튜플로 리턴되고, n개의 변수로 각각 받을 수 있다.\n",
    "a, b = sum4(1,2,3,4)"
   ]
  },
  {
   "cell_type": "code",
   "execution_count": 25,
   "metadata": {},
   "outputs": [
    {
     "data": {
      "text/plain": [
       "24"
      ]
     },
     "execution_count": 25,
     "metadata": {},
     "output_type": "execute_result"
    }
   ],
   "source": [
    "b"
   ]
  },
  {
   "cell_type": "code",
   "execution_count": 26,
   "metadata": {},
   "outputs": [
    {
     "data": {
      "text/plain": [
       "10"
      ]
     },
     "execution_count": 26,
     "metadata": {},
     "output_type": "execute_result"
    }
   ],
   "source": [
    "a"
   ]
  },
  {
   "cell_type": "markdown",
   "metadata": {},
   "source": [
    "#### 1-4 함수 인자 초기값 부여\n",
    "\n",
    "- 함수의 인자를 일일이 다 채우지 않아도 사용 가능\n",
    "- 기본값(초기값)을 부여하여 함수의 사용에 유연성, 인자의 명확성 등을 부여할 수 있다."
   ]
  },
  {
   "cell_type": "code",
   "execution_count": 33,
   "metadata": {},
   "outputs": [],
   "source": [
    "def setHuman( name, age=50, weight=100 ):\n",
    "    print( 'name = %s age = %s w = %s' % ( name, age, weight ) )"
   ]
  },
  {
   "cell_type": "code",
   "execution_count": 34,
   "metadata": {},
   "outputs": [
    {
     "name": "stdout",
     "output_type": "stream",
     "text": [
      "name = 아이닝 age = 50 w = 100\n"
     ]
    }
   ],
   "source": [
    "# 기본값이 없는 인자는 반드시 데이터를 전달해야한다\n",
    "setHuman('아이닝')"
   ]
  },
  {
   "cell_type": "code",
   "execution_count": 36,
   "metadata": {},
   "outputs": [
    {
     "name": "stdout",
     "output_type": "stream",
     "text": [
      "name = 아이닝 age = 30 w = 100\n"
     ]
    }
   ],
   "source": [
    "# 기본값이 있는 부분도 수정하고 싶다면?\n",
    "setHuman('아이닝' ,30 )"
   ]
  },
  {
   "cell_type": "code",
   "execution_count": 37,
   "metadata": {},
   "outputs": [
    {
     "name": "stdout",
     "output_type": "stream",
     "text": [
      "name = 부산대 age = 50 w = 60\n"
     ]
    }
   ],
   "source": [
    "# 첫번째 인자와 세번째 인자를 부여하고 싶다\n",
    "# 변경하고 싶은 인자를 직접 지정해서 부여\n",
    "setHuman( '부산대', weight=60 )"
   ]
  },
  {
   "cell_type": "code",
   "execution_count": 38,
   "metadata": {},
   "outputs": [
    {
     "name": "stdout",
     "output_type": "stream",
     "text": [
      "name = 부산대1 age = 50 w = 60\n"
     ]
    }
   ],
   "source": [
    "setHuman( name = '부산대1', weight=60 )"
   ]
  },
  {
   "cell_type": "code",
   "execution_count": 39,
   "metadata": {},
   "outputs": [
    {
     "name": "stdout",
     "output_type": "stream",
     "text": [
      "name = 부산대1 age = 50 w = 60\n"
     ]
    }
   ],
   "source": [
    "setHuman( weight=60 , name = '부산대1' )"
   ]
  },
  {
   "cell_type": "code",
   "execution_count": 40,
   "metadata": {},
   "outputs": [
    {
     "ename": "SyntaxError",
     "evalue": "non-default argument follows default argument (<ipython-input-40-811f71970493>, line 3)",
     "output_type": "error",
     "traceback": [
      "\u001b[1;36m  File \u001b[1;32m\"<ipython-input-40-811f71970493>\"\u001b[1;36m, line \u001b[1;32m3\u001b[0m\n\u001b[1;33m    def setHuman( age=50, weight=100, name,  ):\u001b[0m\n\u001b[1;37m                 ^\u001b[0m\n\u001b[1;31mSyntaxError\u001b[0m\u001b[1;31m:\u001b[0m non-default argument follows default argument\n"
     ]
    }
   ],
   "source": [
    "# 초기값이 있는 변수를 앞에두고\n",
    "# 초기값이 없는 매개변수를 뒤로 배치\n",
    "def setHuman( age=50, weight=100, name  ):\n",
    "    print( 'name = %s age = %s w = %s' % ( name, age, weight ) )"
   ]
  },
  {
   "cell_type": "code",
   "execution_count": 43,
   "metadata": {},
   "outputs": [],
   "source": [
    "def setHuman3( age=50, weight=100, name = None ):\n",
    "    print( 'name = %s age = %s w = %s' % ( name, age, weight ) )"
   ]
  },
  {
   "cell_type": "code",
   "execution_count": 44,
   "metadata": {},
   "outputs": [
    {
     "name": "stdout",
     "output_type": "stream",
     "text": [
      "name = None age = 50 w = 100\n"
     ]
    }
   ],
   "source": [
    "setHuman3()"
   ]
  },
  {
   "cell_type": "markdown",
   "metadata": {},
   "source": [
    "### 2. 내장 함수\n",
    "\n",
    "- 함수를 사용하는데 별다른 제약이 없다\n",
    "- 그냥 사용 (어떤 것이 있는지 아는 정도면 된다)\n",
    "    - type(), len(), int(), str(), list(), dict(),\n",
    "    - tuple(), print(), set(), ... enumerate()..."
   ]
  },
  {
   "cell_type": "markdown",
   "metadata": {},
   "source": [
    "#### 2-1. 파일\n",
    "\n",
    "- 파일, 네트워크, 데이터베이스 등등 => |/O 작업 \n",
    "    - 프로그램 밖에있는 리소스와 연동할때\n",
    "- 예외 상황이 발생될 수 있다\n",
    "- 반드시 작업이 끝나면 닫아야 한다"
   ]
  },
  {
   "cell_type": "code",
   "execution_count": 56,
   "metadata": {},
   "outputs": [],
   "source": [
    "# 파일이 없는데, 내용을 쓰려고 하면, 파일을 만든다.\n",
    "# 어떤 언어나 동일하다\n",
    "# w : 쓰기, r : 읽기\n",
    "# b : 바이너리(이미지, 영상, 사운드, 문서파일(hwp...등)) = > 2진데이터\n",
    "# 1. 파일 오픈( 쓰기모드 )\n",
    "f = open( 'test1.txt', 'w' )\n",
    "# 2. 파일에 기록\n",
    "f.write( '가나다absABC123!@#' )\n",
    "# 3. 파일 닫기\n",
    "f.close()"
   ]
  },
  {
   "cell_type": "code",
   "execution_count": 53,
   "metadata": {},
   "outputs": [
    {
     "name": "stdout",
     "output_type": "stream",
     "text": [
      "\n"
     ]
    }
   ],
   "source": [
    "f = open( 'test1.txt', 'r' )\n",
    "print( f.read() )\n",
    "f.close()"
   ]
  },
  {
   "cell_type": "code",
   "execution_count": 54,
   "metadata": {},
   "outputs": [
    {
     "name": "stdout",
     "output_type": "stream",
     "text": [
      "\n"
     ]
    }
   ],
   "source": [
    "# 모든 |/O 에서 자동으로 닫게 처리해주는 코드\n",
    "# with문~ 별명으로 처리해준다\n",
    "# 원본(함수, 모듈..) as 별칭\n",
    "with open( 'test1.txt', 'r' ) as f:\n",
    "    print( f.read() )\n",
    "# with문이 끝나면 자동으로 close()가 처리된다\n",
    "#f.close()"
   ]
  },
  {
   "cell_type": "markdown",
   "metadata": {},
   "source": [
    "#### 2-2. 데이터처리\n",
    "\n",
    "- map()\n",
    "- filter()"
   ]
  },
  {
   "cell_type": "code",
   "execution_count": 60,
   "metadata": {},
   "outputs": [],
   "source": [
    "data = [ 1,2,3,4,5,6,7,8,9 ]"
   ]
  },
  {
   "cell_type": "code",
   "execution_count": null,
   "metadata": {},
   "outputs": [],
   "source": [
    "# data의 구성요소들 각각의 값을 2배로 증가시켜라"
   ]
  },
  {
   "cell_type": "code",
   "execution_count": 63,
   "metadata": {},
   "outputs": [
    {
     "data": {
      "text/plain": [
       "[1, 2, 3, 4, 5, 6, 7, 8, 9, 1, 2, 3, 4, 5, 6, 7, 8, 9]"
      ]
     },
     "execution_count": 63,
     "metadata": {},
     "output_type": "execute_result"
    }
   ],
   "source": [
    "# 이것은 의도한 바가 아니다\n",
    "data * 2"
   ]
  },
  {
   "cell_type": "code",
   "execution_count": 65,
   "metadata": {},
   "outputs": [
    {
     "data": {
      "text/plain": [
       "[2, 4, 6, 8, 10, 12, 14, 16, 18]"
      ]
     },
     "execution_count": 65,
     "metadata": {},
     "output_type": "execute_result"
    }
   ],
   "source": [
    "# 구성을 하나씩 빼서 2배해서 다시 넣는다\n",
    "def myDouble(x):\n",
    "    return x*2\n",
    "list( map( myDouble, data ))"
   ]
  },
  {
   "cell_type": "code",
   "execution_count": 66,
   "metadata": {},
   "outputs": [
    {
     "data": {
      "text/plain": [
       "[2, 4, 6, 8, 10, 12, 14, 16, 18]"
      ]
     },
     "execution_count": 66,
     "metadata": {},
     "output_type": "execute_result"
    }
   ],
   "source": [
    "# 람다함수, 함수내에서 1회성으로 사용\n",
    "# 속도면에서는 가장 빠르다\n",
    "# 해당 라인의 코드가 종료되면 메모리에서 해제(휘발성)\n",
    "# 단, 수행문이 한 줄일 경우만 가능하다 = > 이거면 이거해라 만 가능 case가 만들어지는 순간 못 쓴다\n",
    "list( map( lambda x:x*2 , data )) # 람다는 이름없는 함수, 람다는 한번쓰고 사라져버림"
   ]
  },
  {
   "cell_type": "code",
   "execution_count": 67,
   "metadata": {},
   "outputs": [
    {
     "data": {
      "text/plain": [
       "[6, 7, 8, 9]"
      ]
     },
     "execution_count": 67,
     "metadata": {},
     "output_type": "execute_result"
    }
   ],
   "source": [
    "def myDouble(x):\n",
    "    return x > 5\n",
    "# 걸러낸다 = 참이면 내오고 거짓이면 제거\n",
    "list( filter( myDouble, data ))"
   ]
  },
  {
   "cell_type": "code",
   "execution_count": 69,
   "metadata": {},
   "outputs": [
    {
     "data": {
      "text/plain": [
       "[6, 7, 8, 9]"
      ]
     },
     "execution_count": 69,
     "metadata": {},
     "output_type": "execute_result"
    }
   ],
   "source": [
    "list( filter( lambda x:x>5, data ))"
   ]
  },
  {
   "cell_type": "markdown",
   "metadata": {},
   "source": [
    "#### 2-3. 기타 주요\n",
    "\n",
    "-"
   ]
  },
  {
   "cell_type": "markdown",
   "metadata": {},
   "source": [
    "### 3. 외장 함수\n",
    "\n",
    "- 모듈을 가져오고, 모듈을 통해서 함수를 사용하는 형태\n",
    "- ex)\n",
    "    - time, random\n",
    "    - pickle, os, ..."
   ]
  },
  {
   "cell_type": "code",
   "execution_count": 70,
   "metadata": {},
   "outputs": [
    {
     "data": {
      "text/plain": [
       "<module 'pickle' from 'C:\\\\Users\\\\admin\\\\Anaconda3\\\\lib\\\\pickle.py'>"
      ]
     },
     "execution_count": 70,
     "metadata": {},
     "output_type": "execute_result"
    }
   ],
   "source": [
    "# pickle : 자료구조를 그대로 저장, 로드\n",
    "import pickle as p\n",
    "p"
   ]
  },
  {
   "cell_type": "code",
   "execution_count": 71,
   "metadata": {},
   "outputs": [
    {
     "ename": "NameError",
     "evalue": "name 'pickle' is not defined",
     "output_type": "error",
     "traceback": [
      "\u001b[1;31m---------------------------------------------------------------------------\u001b[0m",
      "\u001b[1;31mNameError\u001b[0m                                 Traceback (most recent call last)",
      "\u001b[1;32m<ipython-input-71-8aa3a7685b38>\u001b[0m in \u001b[0;36m<module>\u001b[1;34m\u001b[0m\n\u001b[0;32m      1\u001b[0m \u001b[1;31m# 여기서부터는 모르는 모듈이다 -> 이름이 p로 바꼈다\u001b[0m\u001b[1;33m\u001b[0m\u001b[1;33m\u001b[0m\u001b[1;33m\u001b[0m\u001b[0m\n\u001b[1;32m----> 2\u001b[1;33m \u001b[0mpickle\u001b[0m\u001b[1;33m\u001b[0m\u001b[1;33m\u001b[0m\u001b[0m\n\u001b[0m",
      "\u001b[1;31mNameError\u001b[0m: name 'pickle' is not defined"
     ]
    }
   ],
   "source": [
    "# 여기서부터는 모르는 모듈이다 -> 이름이 p로 바꼈다\n",
    "pickle"
   ]
  },
  {
   "cell_type": "code",
   "execution_count": 75,
   "metadata": {},
   "outputs": [],
   "source": [
    "# 더미 데이터\n",
    "data = {\n",
    "    1:[1,2,3,4],\n",
    "    2:{'name':'아이닝'},\n",
    "    3:(5,6,7,8)\n",
    "}"
   ]
  },
  {
   "cell_type": "code",
   "execution_count": 76,
   "metadata": {},
   "outputs": [],
   "source": [
    "# 기록\n",
    "# 바이너리 쓰기 모드로 파일 오픈\n",
    "with open('data.p', 'wb') as f:\n",
    "    # 덤프 => 파일에 데이터를 기록한다\n",
    "    p.dump( data, f, p.HIGHEST_PROTOCOL)"
   ]
  },
  {
   "cell_type": "code",
   "execution_count": 77,
   "metadata": {},
   "outputs": [
    {
     "name": "stdout",
     "output_type": "stream",
     "text": [
      "{1: [1, 2, 3, 4], 2: {'name': '아이닝'}, 3: (5, 6, 7, 8)}\n"
     ]
    }
   ],
   "source": [
    "# 로드\n",
    "# 바이너리 읽기 모드로 파일 오픈\n",
    "with open('data.p', 'rb') as f:\n",
    "    print( p.load( f ))"
   ]
  },
  {
   "cell_type": "code",
   "execution_count": 79,
   "metadata": {},
   "outputs": [],
   "source": [
    "import os"
   ]
  },
  {
   "cell_type": "code",
   "execution_count": 80,
   "metadata": {},
   "outputs": [
    {
     "data": {
      "text/plain": [
       "(False, True)"
      ]
     },
     "execution_count": 80,
     "metadata": {},
     "output_type": "execute_result"
    }
   ],
   "source": [
    "# a라는 파일이 존재하는가?\n",
    "os.path.exists('a.txt'),os.path.exists('data.p')"
   ]
  },
  {
   "cell_type": "code",
   "execution_count": 82,
   "metadata": {},
   "outputs": [
    {
     "data": {
      "text/plain": [
       "'C:\\\\Users\\\\admin\\\\Desktop\\\\py_projects\\\\python_basic\\\\basic'"
      ]
     },
     "execution_count": 82,
     "metadata": {},
     "output_type": "execute_result"
    }
   ],
   "source": [
    "os.getcwd()"
   ]
  },
  {
   "cell_type": "code",
   "execution_count": 90,
   "metadata": {},
   "outputs": [],
   "source": [
    "# 폴더 만들기\n",
    "if os.path.exists('/dumi'):\n",
    "    os.mkdir('dumi')"
   ]
  },
  {
   "cell_type": "code",
   "execution_count": 84,
   "metadata": {},
   "outputs": [],
   "source": [
    "os.chdir('dumi')"
   ]
  },
  {
   "cell_type": "code",
   "execution_count": 91,
   "metadata": {
    "scrolled": false
   },
   "outputs": [],
   "source": [
    "if os.path.exists('/dumi2'):\n",
    "    os.mkdir('dumi2')"
   ]
  },
  {
   "cell_type": "code",
   "execution_count": 93,
   "metadata": {},
   "outputs": [],
   "source": [
    "# 현재 위치이 파일리스트\n",
    "os.chdir('..')"
   ]
  },
  {
   "cell_type": "code",
   "execution_count": 94,
   "metadata": {
    "scrolled": false
   },
   "outputs": [
    {
     "data": {
      "text/plain": [
       "['.ipynb_checkpoints',\n",
       " 'data.p',\n",
       " 'dumi',\n",
       " 'game.py',\n",
       " 'game2.py',\n",
       " 'game_nocom.py',\n",
       " 'game_nocomment.py',\n",
       " 'game_nocomment2.py',\n",
       " 'game_semi_final.py',\n",
       " 'p1.py',\n",
       " 'P10_고급표현.ipynb',\n",
       " 'p1_파이썬문법_전체리스트.ipynb',\n",
       " 'p2_수치형.ipynb',\n",
       " 'p3_문자열.ipynb',\n",
       " 'p4_연속데이터타입_리스트_딕셔너리_튜플_집합.ipynb',\n",
       " 'p5_블린_조건문_제어문_반복문.ipynb',\n",
       " 'P6 함수.ipynb',\n",
       " 'P7 모듈화_모듈가져오기_패키지_예외처리.ipynb',\n",
       " 'P8 클래스_객체지향프로그램.ipynb',\n",
       " 'P9_정규식.ipynb',\n",
       " 'test.py',\n",
       " 'test1.txt',\n",
       " 'test2.py',\n",
       " 'test3.py',\n",
       " 'test4.py',\n",
       " 'Untitled.ipynb',\n",
       " 'Untitled1.ipynb',\n",
       " '복습(12.17) - 문자열.ipynb',\n",
       " '복습(12.17) - 수치형.ipynb',\n",
       " '복습(12.17).ipynb']"
      ]
     },
     "execution_count": 94,
     "metadata": {},
     "output_type": "execute_result"
    }
   ],
   "source": [
    "os.listdir( os.getcwd())"
   ]
  },
  {
   "cell_type": "code",
   "execution_count": 96,
   "metadata": {},
   "outputs": [],
   "source": [
    "from glob import glob"
   ]
  },
  {
   "cell_type": "code",
   "execution_count": 101,
   "metadata": {},
   "outputs": [
    {
     "data": {
      "text/plain": [
       "['C:\\\\Users\\\\admin\\\\Desktop\\\\py_projects\\\\python_basic\\\\basic\\\\P10_고급표현.ipynb',\n",
       " 'C:\\\\Users\\\\admin\\\\Desktop\\\\py_projects\\\\python_basic\\\\basic\\\\p1_파이썬문법_전체리스트.ipynb']"
      ]
     },
     "execution_count": 101,
     "metadata": {},
     "output_type": "execute_result"
    }
   ],
   "source": [
    "# 특정 경로에 특정 패턴으로 된 대상만 수집 => 필요한 것 만 가져온다\n",
    "glob( os.getcwd() + '/P1*.ipynb')"
   ]
  },
  {
   "cell_type": "markdown",
   "metadata": {},
   "source": [
    "### 4. 람다 함수\n",
    "\n",
    "- 내장함수 map(), filter()에서 살펴봤다\n",
    "- 람다함수, 함수내에서 1회성으로 사용\n",
    "- 속도면에서는 가장 빠르다\n",
    "- 해당 라인의 코드가 종료되면 메모리에서 해제(휘발성)\n",
    "- 단, 수행문이 한 줄일 경우만 가능하다 = > 이거면 이거해라 만 가능 case가 만들어지는 순간 못 쓴다"
   ]
  },
  {
   "cell_type": "markdown",
   "metadata": {},
   "source": [
    "### 5. 클로저\n",
    "\n",
    "- 함수 안에 함수 있다\n",
    "- 함수 안에서 사용\n",
    "- 흔하지는 않다"
   ]
  },
  {
   "cell_type": "code",
   "execution_count": 104,
   "metadata": {},
   "outputs": [
    {
     "name": "stdout",
     "output_type": "stream",
     "text": [
      "1\n",
      "2\n",
      "3\n"
     ]
    }
   ],
   "source": [
    "def a():\n",
    "    print(1)\n",
    "    def b():\n",
    "        print(2)\n",
    "    b()\n",
    "    print(3)\n",
    "a()"
   ]
  },
  {
   "cell_type": "markdown",
   "metadata": {},
   "source": [
    "### 6. 객체지향프로그램 => 함수지향프로그램 전환"
   ]
  },
  {
   "cell_type": "code",
   "execution_count": null,
   "metadata": {},
   "outputs": [],
   "source": []
  },
  {
   "cell_type": "code",
   "execution_count": null,
   "metadata": {},
   "outputs": [],
   "source": []
  },
  {
   "cell_type": "code",
   "execution_count": null,
   "metadata": {},
   "outputs": [],
   "source": []
  },
  {
   "cell_type": "code",
   "execution_count": null,
   "metadata": {},
   "outputs": [],
   "source": []
  },
  {
   "cell_type": "code",
   "execution_count": null,
   "metadata": {},
   "outputs": [],
   "source": []
  },
  {
   "cell_type": "code",
   "execution_count": null,
   "metadata": {},
   "outputs": [],
   "source": []
  },
  {
   "cell_type": "code",
   "execution_count": null,
   "metadata": {},
   "outputs": [],
   "source": []
  },
  {
   "cell_type": "code",
   "execution_count": null,
   "metadata": {},
   "outputs": [],
   "source": []
  },
  {
   "cell_type": "code",
   "execution_count": null,
   "metadata": {},
   "outputs": [],
   "source": []
  },
  {
   "cell_type": "code",
   "execution_count": null,
   "metadata": {},
   "outputs": [],
   "source": []
  },
  {
   "cell_type": "code",
   "execution_count": null,
   "metadata": {},
   "outputs": [],
   "source": []
  }
 ],
 "metadata": {
  "kernelspec": {
   "display_name": "Python 3",
   "language": "python",
   "name": "python3"
  },
  "language_info": {
   "codemirror_mode": {
    "name": "ipython",
    "version": 3
   },
   "file_extension": ".py",
   "mimetype": "text/x-python",
   "name": "python",
   "nbconvert_exporter": "python",
   "pygments_lexer": "ipython3",
   "version": "3.7.4"
  }
 },
 "nbformat": 4,
 "nbformat_minor": 2
}
